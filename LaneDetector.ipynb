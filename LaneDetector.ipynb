{
 "cells": [
  {
   "cell_type": "code",
   "execution_count": 1,
   "metadata": {},
   "outputs": [],
   "source": [
    "import cv2\n",
    "import numpy as np\n",
    "import matplotlib.pyplot as plt"
   ]
  },
  {
   "cell_type": "code",
   "execution_count": 2,
   "metadata": {},
   "outputs": [],
   "source": [
    "video = 'VID_highway.mp4'\n",
    "\n",
    "cap = cv2.VideoCapture(video)\n",
    "\n",
    "car_cascade = cv2.CascadeClassifier('cars.xml') # By https://github.com/andrewssobral/vehicle_detection_haarcascades"
   ]
  },
  {
   "cell_type": "code",
   "execution_count": 3,
   "metadata": {},
   "outputs": [],
   "source": [
    "#ROI\n",
    "line_roi_y1, line_roi_y2, line_roi_x1, line_roi_x2 = 650, 950, 400, 1900\n",
    "car_roi_y1, car_roi_y2, car_roi_x1, car_roi_x2 = 400, 800, 700, 1900"
   ]
  },
  {
   "cell_type": "code",
   "execution_count": 4,
   "metadata": {},
   "outputs": [],
   "source": [
    "# Warp perspective windows dimensions\n",
    "warp_width, warp_height = 300, 450\n",
    "warp_perc = np.float32([[1250, 650], [1510, 650], [400, 950], [1900, 950]])\n",
    "warp_rect = np.float32([[0, 0], [warp_width, 0], [0, warp_height], [warp_width, warp_height]])"
   ]
  },
  {
   "cell_type": "code",
   "execution_count": 5,
   "metadata": {},
   "outputs": [],
   "source": [
    "# Haar Cascade\n",
    "def car_haar_cascade():\n",
    "    if car_cascade is not None:\n",
    "        scaleFactor = 1.1\n",
    "        minNeighbors = 6\n",
    "        minSize = 100\n",
    "        cars = car_cascade.detectMultiScale(roi_car, scaleFactor, minNeighbors, minSize)\n",
    "        \n",
    "        return cars\n",
    "    else:\n",
    "        return None"
   ]
  },
  {
   "cell_type": "code",
   "execution_count": 6,
   "metadata": {},
   "outputs": [],
   "source": [
    "#Gaussian Blur\n",
    "def blur():\n",
    "    sigma = 19\n",
    "    roi_b = cv2.GaussianBlur(roi_line, (sigma, sigma), 0)\n",
    "    \n",
    "    return roi_b"
   ]
  },
  {
   "cell_type": "code",
   "execution_count": 7,
   "metadata": {},
   "outputs": [],
   "source": [
    "#Canny Detection\n",
    "def canny():\n",
    "    threshold_low = 70\n",
    "    threshold_high = 100\n",
    "    roi_c = cv2.Canny(roi_b, threshold_low, threshold_high)\n",
    "    \n",
    "    return roi_c"
   ]
  },
  {
   "cell_type": "code",
   "execution_count": 8,
   "metadata": {},
   "outputs": [],
   "source": [
    "# Draw ROI area\n",
    "def draw_roi(roi_c):\n",
    "    '''# Convert from Gray scale to BGR so that it can cover the original frame\n",
    "    roi_c = cv2.cvtColor(roi_c, cv2.COLOR_GRAY2BGR)    \n",
    "    # Replace line roi as canny\n",
    "    frame[line_roi_y1:line_roi_y2, line_roi_x1:line_roi_x2] = roi_c'''\n",
    "    \n",
    "    '''# Lane detection roi\n",
    "    cv2.rectangle(frame, (line_roi_x1, line_roi_y1), (line_roi_x2 ,line_roi_y2), (0, 255, 0), 5)\n",
    "    # Car detection roi\n",
    "    cv2.rectangle(frame, (car_roi_x1, car_roi_y1), (car_roi_x2 ,car_roi_y2), (255, 0, 0), 5)'''\n",
    "    \n",
    "    # Show Canny detector region in a new windows\n",
    "    cv2.imshow('ROI', roi_c)"
   ]
  },
  {
   "cell_type": "code",
   "execution_count": 9,
   "metadata": {},
   "outputs": [],
   "source": [
    "# Draw Hough Lines\n",
    "def draw_lines():\n",
    "    if lines is not None:\n",
    "        for line in lines:\n",
    "            x1, y1, x2, y2 = line[0]\n",
    "            # Avoid drawing horizontal lines(such as bottom of the car / horizon)\n",
    "            if abs((y2 - y1) / (x2 - x1)) * 180 / np.pi > 20: \n",
    "                cv2.line(frame, (x1+line_roi_x1, y1+line_roi_y1), (x2+line_roi_x1, y2+line_roi_y1), [0, 255, 0], 2)"
   ]
  },
  {
   "cell_type": "code",
   "execution_count": 10,
   "metadata": {},
   "outputs": [],
   "source": [
    "# Show perspective warp\n",
    "def perspective_warp():\n",
    "    ''' # Show perspective warp region\n",
    "    for a in range(0, 4):\n",
    "        cv2.circle(frame, (warp_perc[i][0], warp_perc[i][1]), 5, (0, 0, 255), cv2.FILLED)''' \n",
    "    \n",
    "    # Convert perspective matrix\n",
    "    matrix = cv2.getPerspectiveTransform(warp_perc, warp_rect)\n",
    "    topView = cv2.warpPerspective(frame, matrix, (warp_width, warp_height))\n",
    "    \n",
    "    # Show the result in a new windows\n",
    "    cv2.imshow('TopView',topView)"
   ]
  },
  {
   "cell_type": "code",
   "execution_count": 11,
   "metadata": {},
   "outputs": [],
   "source": [
    "# Draw the detected car region\n",
    "def draw_car_regions():\n",
    "    for(x, y, w, h) in cars:\n",
    "        # Apply offset of ROI\n",
    "        x += car_roi_x1\n",
    "        y += car_roi_y1\n",
    "\n",
    "        # Draw rect and text\n",
    "        cv2.rectangle(frame, (x, y), (x + w, y + h), (0, 0, 255), 2)\n",
    "        cv2.rectangle(frame, (x, y-40), (x + w, y), (0, 0, 255), -2)\n",
    "        cv2.putText(frame, 'Car', (x, y - 10), cv2.FONT_HERSHEY_SIMPLEX, 1, (0, 0, 0), 2)"
   ]
  },
  {
   "cell_type": "code",
   "execution_count": 12,
   "metadata": {},
   "outputs": [],
   "source": [
    "# Main\n",
    "while True:\n",
    "    ret, frame = cap.read()\n",
    "    \n",
    "    # loop the video\n",
    "    if not ret:\n",
    "        cap = cv2.VideoCapture(video)\n",
    "        continue\n",
    "        \n",
    "    gray = cv2.cvtColor(frame, cv2.COLOR_BGR2GRAY)\n",
    "    \n",
    "    roi_line = gray[line_roi_y1:line_roi_y2, line_roi_x1:line_roi_x2].copy() # ROI for detect lanes\n",
    "    roi_car = gray[car_roi_y1:car_roi_y2, car_roi_x1:car_roi_x2].copy() # ROI for detect cars\n",
    "    \n",
    "    # Haar Cascade\n",
    "    cars = car_haar_cascade()\n",
    "    \n",
    "    # Gaussian Blur\n",
    "    roi_b = blur()\n",
    "    \n",
    "    # Canny Detection\n",
    "    roi_c = canny()\n",
    "\n",
    "    # Hough Transform\n",
    "    lines = cv2.HoughLinesP(roi_c, rho = 1, theta = np.pi/60, threshold = 20, minLineLength = 200, maxLineGap = 150)\n",
    "    \n",
    "    # Draw ROI area\n",
    "    draw_roi(roi_c)\n",
    "    \n",
    "    # Draw Hough Lines\n",
    "    draw_lines()\n",
    "        \n",
    "    # Show perspective warp\n",
    "    perspective_warp()\n",
    "\n",
    "    # Draw the detected car region\n",
    "    draw_car_regions()\n",
    "    \n",
    "    cv2.imshow('video',frame)\n",
    "    \n",
    "    key = cv2.waitKey(25)\n",
    "    if(key == 27):\n",
    "        break\n",
    "\n",
    "cap.release()\n",
    "cv2.destroyAllWindows()"
   ]
  },
  {
   "cell_type": "code",
   "execution_count": null,
   "metadata": {},
   "outputs": [],
   "source": []
  }
 ],
 "metadata": {
  "kernelspec": {
   "display_name": "Python 3",
   "language": "python",
   "name": "python3"
  },
  "language_info": {
   "codemirror_mode": {
    "name": "ipython",
    "version": 3
   },
   "file_extension": ".py",
   "mimetype": "text/x-python",
   "name": "python",
   "nbconvert_exporter": "python",
   "pygments_lexer": "ipython3",
   "version": "3.8.5"
  }
 },
 "nbformat": 4,
 "nbformat_minor": 4
}
